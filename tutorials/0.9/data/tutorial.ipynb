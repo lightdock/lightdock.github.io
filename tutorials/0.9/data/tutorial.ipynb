{
 "cells": [
  {
   "cell_type": "markdown",
   "metadata": {
    "id": "A5zNW6o7WiHA"
   },
   "source": [
    "# Membrane-associated protein docking with LightDock"
   ]
  },
  {
   "cell_type": "markdown",
   "metadata": {
    "id": "Yq2VO4xcWuJE"
   },
   "source": [
    "## 1. Tools setup"
   ]
  },
  {
   "cell_type": "code",
   "execution_count": null,
   "metadata": {
    "colab": {
     "base_uri": "https://localhost:8080/"
    },
    "id": "LQzfCHWG8TUv",
    "outputId": "f68df813-88e0-47e2-e6ac-3227de06a520"
   },
   "outputs": [],
   "source": [
    "!pip install lightdock==0.9.0"
   ]
  },
  {
   "cell_type": "code",
   "execution_count": null,
   "metadata": {
    "colab": {
     "base_uri": "https://localhost:8080/"
    },
    "id": "ETbQOBOUVr8F",
    "outputId": "21363a9f-b3b2-4636-85fd-de42f25de344"
   },
   "outputs": [],
   "source": [
    "!pip install pdb-tools"
   ]
  },
  {
   "cell_type": "code",
   "execution_count": null,
   "metadata": {
    "colab": {
     "base_uri": "https://localhost:8080/"
    },
    "id": "KwctOwGmagNV",
    "outputId": "0f8255ea-8ae4-4e2d-cd56-25ac6a18e522"
   },
   "outputs": [],
   "source": [
    "!pip install py3dmol"
   ]
  },
  {
   "cell_type": "markdown",
   "metadata": {
    "id": "tnnkDDG6W5js"
   },
   "source": [
    "## 2. Upload data"
   ]
  },
  {
   "cell_type": "markdown",
   "metadata": {
    "id": "YrpjuVYCanRL"
   },
   "source": [
    "<- Use the *Upload files* option from the *Files* tab to upload `3x29_receptor_membrane.pdb` and `3x29_ligand.pdb` PDB files to your workspace."
   ]
  },
  {
   "cell_type": "code",
   "execution_count": null,
   "metadata": {
    "colab": {
     "base_uri": "https://localhost:8080/",
     "height": 617
    },
    "id": "OurdDhlHbBs3",
    "outputId": "2be9edfc-8476-435c-d114-c19b27506311"
   },
   "outputs": [],
   "source": [
    "import py3Dmol\n",
    "\n",
    "with open(\"3x29_receptor_membrane.pdb\") as ifile:\n",
    "    receptor = \"\".join([x for x in ifile])\n",
    "\n",
    "view = py3Dmol.view(width=600, height=600)\n",
    "view.addModelsAsFrames(receptor)\n",
    "view.setStyle({'model': -1}, {\"cartoon\": {'color': 'spectrum'}})\n",
    "view.setStyle({'resn':'MMB'}, {\"sphere\": {'color': 'orange'}})\n",
    "view.zoomTo()\n",
    "view.show()"
   ]
  },
  {
   "cell_type": "code",
   "execution_count": null,
   "metadata": {
    "colab": {
     "base_uri": "https://localhost:8080/",
     "height": 617
    },
    "id": "nGroCoc0fF4I",
    "outputId": "9fd86916-4fec-4e38-913a-db739389a36f"
   },
   "outputs": [],
   "source": [
    "import py3Dmol\n",
    "\n",
    "with open(\"3x29_ligand.pdb\") as ifile:\n",
    "    ligand = \"\".join([x for x in ifile])\n",
    "\n",
    "view = py3Dmol.view(width=600, height=600)\n",
    "view.addModelsAsFrames(ligand)\n",
    "view.setStyle({'model': -1}, {\"cartoon\": {'color': 'spectrum'}})\n",
    "view.zoomTo()\n",
    "view.show()"
   ]
  },
  {
   "cell_type": "markdown",
   "metadata": {
    "id": "ls95bcCyW9IH"
   },
   "source": [
    "## 3. LightDock setup"
   ]
  },
  {
   "cell_type": "code",
   "execution_count": null,
   "metadata": {
    "colab": {
     "base_uri": "https://localhost:8080/"
    },
    "id": "HDQWVFeHW_-N",
    "outputId": "29a5287a-217d-4dd1-f3b4-4f19df53bc11"
   },
   "outputs": [],
   "source": [
    "!lightdock3_setup.py 3x29_receptor_membrane.pdb 3x29_ligand.pdb --noxt --noh --membrane"
   ]
  },
  {
   "cell_type": "markdown",
   "metadata": {
    "id": "BJpwI7IuYWDW"
   },
   "source": [
    "## 4. LightDock 1-swarm simulation"
   ]
  },
  {
   "cell_type": "code",
   "execution_count": null,
   "metadata": {
    "colab": {
     "base_uri": "https://localhost:8080/"
    },
    "id": "1smoC2YHYaQj",
    "outputId": "514d3f7d-f9be-42bc-de9f-e4abd27a9c8c"
   },
   "outputs": [],
   "source": [
    "!lightdock3.py setup.json 100 -c 1 -s fastdfire -l 60 "
   ]
  },
  {
   "cell_type": "markdown",
   "metadata": {
    "id": "Gi3IGRiTfeNC"
   },
   "source": [
    "## 5. Generate models"
   ]
  },
  {
   "cell_type": "code",
   "execution_count": null,
   "metadata": {
    "colab": {
     "base_uri": "https://localhost:8080/"
    },
    "id": "xoywSeRhfjrl",
    "outputId": "32b8bdde-de1f-46a4-e114-df5c421fd678"
   },
   "outputs": [],
   "source": [
    "!lgd_generate_conformations.py 3x29_receptor_membrane.pdb 3x29_ligand.pdb swarm_60/gso_100.out 200"
   ]
  },
  {
   "cell_type": "markdown",
   "metadata": {
    "id": "ZZoCT1QZfq2E"
   },
   "source": [
    "## 6. Cluster models"
   ]
  },
  {
   "cell_type": "code",
   "execution_count": null,
   "metadata": {
    "colab": {
     "base_uri": "https://localhost:8080/"
    },
    "id": "lDwsXzMvfwTg",
    "outputId": "5028d4ff-b9b9-41ed-dac9-08236b559b96"
   },
   "outputs": [],
   "source": [
    "!lgd_cluster_bsas.py swarm_60/gso_100.out "
   ]
  },
  {
   "cell_type": "markdown",
   "metadata": {
    "id": "SSV3iDX-f774"
   },
   "source": [
    "## 7. Visualize top models from cluster"
   ]
  },
  {
   "cell_type": "code",
   "execution_count": null,
   "metadata": {
    "colab": {
     "base_uri": "https://localhost:8080/",
     "height": 617
    },
    "id": "oyM9lA2ef_qs",
    "outputId": "37ba6166-5131-46f1-8064-4c935a6be07a"
   },
   "outputs": [],
   "source": [
    "import py3Dmol\n",
    "\n",
    "with open(\"swarm_60/lightdock_115.pdb\") as ifile:\n",
    "    structure = \"\".join([x for x in ifile])\n",
    "\n",
    "view = py3Dmol.view(width=600, height=600)\n",
    "view.addModelsAsFrames(structure)\n",
    "view.setStyle({'chain': 'A'}, {\"cartoon\": {'color': 'blue'}})\n",
    "view.setStyle({'chain': 'B'}, {\"cartoon\": {'color': 'green'}})\n",
    "view.setStyle({'resn':'MMB'}, {\"sphere\": {'color': 'orange'}})\n",
    "view.zoomTo()\n",
    "view.show()"
   ]
  }
 ],
 "metadata": {
  "colab": {
   "collapsed_sections": [],
   "name": "LightDock+HADDOCK_Membrane_Tutorial.ipynb",
   "provenance": []
  },
  "kernelspec": {
   "display_name": "Python 3",
   "language": "python",
   "name": "python3"
  },
  "language_info": {
   "codemirror_mode": {
    "name": "ipython",
    "version": 3
   },
   "file_extension": ".py",
   "mimetype": "text/x-python",
   "name": "python",
   "nbconvert_exporter": "python",
   "pygments_lexer": "ipython3",
   "version": "3.8.8"
  }
 },
 "nbformat": 4,
 "nbformat_minor": 1
}
