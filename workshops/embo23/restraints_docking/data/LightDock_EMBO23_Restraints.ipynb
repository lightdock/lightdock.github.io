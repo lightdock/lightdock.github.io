{
  "nbformat": 4,
  "nbformat_minor": 0,
  "metadata": {
    "colab": {
      "provenance": []
    },
    "kernelspec": {
      "name": "python3",
      "display_name": "Python 3"
    },
    "language_info": {
      "name": "python"
    }
  },
  "cells": [
    {
      "cell_type": "markdown",
      "source": [
        "# LightDock: Protein-peptide docking using residue restraints"
      ],
      "metadata": {
        "id": "ukaG0UJfDuJU"
      }
    },
    {
      "cell_type": "markdown",
      "source": [
        "## 1. Install required software\n",
        "\n",
        "LightDock is distributed as a Python package through the Python Package Index ([PyPI](https://pypi.org/project/lightdock/)) repository. We will install the last version of LightDock at the moment (0.9.4):"
      ],
      "metadata": {
        "id": "WARUzlxvD9YR"
      }
    },
    {
      "cell_type": "code",
      "execution_count": null,
      "metadata": {
        "id": "GpwxH5Ov1wrq"
      },
      "outputs": [],
      "source": [
        "!pip install lightdock==0.9.4"
      ]
    },
    {
      "cell_type": "markdown",
      "source": [
        "We will check if LightDock has been installed successfully:"
      ],
      "metadata": {
        "id": "pRDT9X1tErtK"
      }
    },
    {
      "cell_type": "code",
      "source": [
        "!lightdock3.py --version"
      ],
      "metadata": {
        "id": "ksw9oi_B2Tns"
      },
      "execution_count": null,
      "outputs": []
    },
    {
      "cell_type": "markdown",
      "source": [
        "We will install [py3dmol](https://github.com/avirshup/py3dmol), a nice library for representing molecules in notebooks:"
      ],
      "metadata": {
        "id": "1EZwLKf4E63d"
      }
    },
    {
      "cell_type": "code",
      "source": [
        "!pip install py3dmol==2.0.3"
      ],
      "metadata": {
        "id": "S8_PUejsFBmR"
      },
      "execution_count": null,
      "outputs": []
    },
    {
      "cell_type": "markdown",
      "source": [
        "## 2. Getting input data\n",
        "\n",
        "We will obtain the input receptor (`1czy_receptor.pdb`) and ligand (`1czy_ligand.pdb`) PDB structures to run this tutorial, and a file in plain text containing the restraints (`restraints.list`):"
      ],
      "metadata": {
        "id": "fJGC10rvFcm3"
      }
    },
    {
      "cell_type": "code",
      "source": [
        "!wget https://lightdock.org/workshops/embo23/restraints_docking/data/1czy_receptor.pdb\n",
        "!wget https://lightdock.org/workshops/embo23/restraints_docking/data/1czy_ligand.pdb\n",
        "!wget https://lightdock.org/workshops/embo23/restraints_docking/data/restraints.list"
      ],
      "metadata": {
        "id": "-SNIgRYnFtnz"
      },
      "execution_count": null,
      "outputs": []
    },
    {
      "cell_type": "markdown",
      "source": [
        "Let's quicky visualize the input PDB structures:"
      ],
      "metadata": {
        "id": "bU_MtzR5F-m8"
      }
    },
    {
      "cell_type": "code",
      "source": [
        "import py3Dmol\n",
        "\n",
        "with open(\"1czy_receptor.pdb\") as ifile:\n",
        "    receptor = \"\".join([x for x in ifile])\n",
        "\n",
        "view = py3Dmol.view(width=600, height=600)\n",
        "view.addModelsAsFrames(receptor)\n",
        "view.setStyle({'model': -1}, {\"cartoon\": {'color': 'spectrum'}})\n",
        "view.zoomTo()\n",
        "view.show()"
      ],
      "metadata": {
        "id": "V7UwQR8KGF5E"
      },
      "execution_count": null,
      "outputs": []
    },
    {
      "cell_type": "code",
      "source": [
        "import py3Dmol\n",
        "\n",
        "with open(\"1czy_ligand.pdb\") as ifile:\n",
        "    ligand = \"\".join([x for x in ifile])\n",
        "\n",
        "view = py3Dmol.view(width=600, height=600)\n",
        "view.addModelsAsFrames(ligand)\n",
        "view.setStyle({'model': -1}, {\"cartoon\": {'color': 'spectrum'}})\n",
        "view.zoomTo()\n",
        "view.show()"
      ],
      "metadata": {
        "id": "2lZzb5qQGVQ7"
      },
      "execution_count": null,
      "outputs": []
    },
    {
      "cell_type": "markdown",
      "source": [
        "## 3. Preparing the simulation\n",
        "\n",
        "The fist step in any LightDock simulation is **setup**. We will make use of `lightdock3_setup.py` command to initialize our protein-peptide docking simulation using residue restraints.\n",
        "\n",
        "We have selected two residues as restraints on the receptor partner: `A.411` and `A.466`. If you open `restraints.list` file for inspection, you will observe the format that LightDock is expecting for restraints (find more information on the [LightDock Theory](https://lightdock.org/workshops/embo23/lightdock_theory#22-residue-restraints) section):\n",
        "\n",
        "```\n",
        "R A.PHE.411\n",
        "R A.ALA.466\n",
        "```\n",
        "\n",
        "Use the `lightdock3_setup.py` command to set up this LightDock simulation:"
      ],
      "metadata": {
        "id": "7AcQzrncG2NB"
      }
    },
    {
      "cell_type": "code",
      "source": [
        "!lightdock3_setup.py 1czy_receptor.pdb 1czy_ligand.pdb -anm -ar 10 -al 5 -rst restraints.list -spr 2 -noxt -now -noh"
      ],
      "metadata": {
        "id": "TkMgdCRVLEwW"
      },
      "execution_count": null,
      "outputs": []
    },
    {
      "cell_type": "markdown",
      "source": [
        "For this specific simulation, we have activated backbone flexibility with the ANM flag (`-anm`) and set the first 10 non-trivial modes for the receptor (`-ar 10`) and the first 5 non-trivial modes for the ligand (`-al 5`). The first 10 non-trivial is the default value for proteins, but for small peptides reducing it is recommended.\n",
        "\n",
        "The flag `-spr 2` has been set for this tutorial, which indicates to keep only 2 swarms per restraint. By default this value is 20."
      ],
      "metadata": {
        "id": "Xer4cWO4jWXU"
      }
    },
    {
      "cell_type": "markdown",
      "source": [
        "## 4. Running the simulation\n",
        "\n",
        "By default, LightDock detects the number of CPU cores of your environment and uses all of them for speeding up the simulation. You can always set that value to a different one using the `-c` flag.\n",
        "\n",
        "For the simulation to be run, only the `setup.json` file generated during the setup step and the number of steps (`100`) is required.\n",
        "\n",
        "Simulating this system in Google Colab with 2 CPU cores takes around 2 minutes:"
      ],
      "metadata": {
        "id": "e9JwuvZRkNLR"
      }
    },
    {
      "cell_type": "code",
      "source": [
        "!lightdock3.py setup.json 100"
      ],
      "metadata": {
        "id": "JMZtbz2-NJEc"
      },
      "execution_count": null,
      "outputs": []
    },
    {
      "cell_type": "markdown",
      "source": [
        "## 5. Generating poses and calculating clusters\n",
        "\n",
        "In order to remove redundant predicted poses per swarm, we will generate all the predictions for every swarm and perform a clustering of the poses:"
      ],
      "metadata": {
        "id": "XcenPz6kkn6M"
      }
    },
    {
      "cell_type": "code",
      "source": [
        "!lgd_generate_conformations.py 1czy_receptor.pdb 1czy_ligand.pdb swarm_0/gso_100.out 200 --setup setup.json\n",
        "!lgd_generate_conformations.py 1czy_receptor.pdb 1czy_ligand.pdb swarm_1/gso_100.out 200 --setup setup.json\n",
        "!lgd_generate_conformations.py 1czy_receptor.pdb 1czy_ligand.pdb swarm_2/gso_100.out 200 --setup setup.json\n",
        "!lgd_generate_conformations.py 1czy_receptor.pdb 1czy_ligand.pdb swarm_3/gso_100.out 200 --setup setup.json"
      ],
      "metadata": {
        "id": "UizVr4HZNxv-"
      },
      "execution_count": null,
      "outputs": []
    },
    {
      "cell_type": "code",
      "source": [
        "!lgd_cluster_bsas.py swarm_0/gso_100.out\n",
        "!lgd_cluster_bsas.py swarm_1/gso_100.out\n",
        "!lgd_cluster_bsas.py swarm_2/gso_100.out\n",
        "!lgd_cluster_bsas.py swarm_3/gso_100.out"
      ],
      "metadata": {
        "id": "5gxSVJzPOMh4"
      },
      "execution_count": null,
      "outputs": []
    },
    {
      "cell_type": "markdown",
      "source": [
        "## 6. Ranking and filtering\n",
        "\n",
        "The final step in LightDock simulations with restraints is to generate the ranking of top predicted poses and to apply a post-filtering to check for predictions satisfying the input restraints:"
      ],
      "metadata": {
        "id": "rIn8yPr8lLjK"
      }
    },
    {
      "cell_type": "code",
      "source": [
        "!lgd_rank.py 4 100"
      ],
      "metadata": {
        "id": "DZpTevBCSSNy"
      },
      "execution_count": null,
      "outputs": []
    },
    {
      "cell_type": "code",
      "source": [
        "!lgd_filter_restraints.py --cutoff 5.0 --fnat 0.4 rank_by_scoring.list restraints.list A D"
      ],
      "metadata": {
        "id": "Gq7HHCpSSpsq"
      },
      "execution_count": null,
      "outputs": []
    },
    {
      "cell_type": "markdown",
      "source": [
        "`lgd_filter_restraints.py` command creates a new folder `filtered` with the final ranking and PDB structures satisfying input restraints."
      ],
      "metadata": {
        "id": "uA-TKelXls56"
      }
    },
    {
      "cell_type": "markdown",
      "source": [
        "## 7. Quick analysis\n",
        "\n",
        "We will download the reference crystal complex for 1CZY and quickly superimpose the best predicted pose by LightDock with the bound 1CZY complex:"
      ],
      "metadata": {
        "id": "Wrxy-4UKl2gq"
      }
    },
    {
      "cell_type": "code",
      "source": [
        "!wget https://lightdock.org/workshops/embo23/restraints_docking/data/1czy_ref.pdb"
      ],
      "metadata": {
        "id": "RcjULFw2Wedk"
      },
      "execution_count": null,
      "outputs": []
    },
    {
      "cell_type": "code",
      "source": [
        "import py3Dmol\n",
        "\n",
        "with open(\"filtered/swarm_3_175.pdb\") as ifile:\n",
        "    predicted = \"\".join([x for x in ifile])\n",
        "\n",
        "with open(\"1czy_ref.pdb\") as ifile:\n",
        "    reference = \"\".join([x for x in ifile])\n",
        "\n",
        "view = py3Dmol.view(width=600, height=600)\n",
        "view.addModelsAsFrames(predicted)\n",
        "view.setStyle({'model': -1, 'chain': 'A'}, {\"cartoon\": {'color': '#fbbd19'}})\n",
        "view.setStyle({'model': -1, 'chain': 'D'}, {\"cartoon\": {'color': '#fbbd19'}})\n",
        "view.addModelsAsFrames(reference)\n",
        "view.setStyle({'model': -1}, {\"cartoon\": {'color': '#593196'}})\n",
        "view.zoomTo()\n",
        "view.show()"
      ],
      "metadata": {
        "id": "92ukVnG-S0Kv"
      },
      "execution_count": null,
      "outputs": []
    },
    {
      "cell_type": "markdown",
      "source": [
        "The L-RMSD is around 0.4Å, not bad at all for being a toy example! 😎"
      ],
      "metadata": {
        "id": "IbcPEI73mIPQ"
      }
    }
  ]
}